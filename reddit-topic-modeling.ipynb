{
 "cells": [
  {
   "cell_type": "code",
   "execution_count": 1,
   "metadata": {
    "_cell_guid": "b1076dfc-b9ad-4769-8c92-a6c4dae69d19",
    "_uuid": "8f2839f25d086af736a60e9eeb907d3b93b6e0e5"
   },
   "outputs": [
    {
     "name": "stdout",
     "output_type": "stream",
     "text": [
      "/kaggle/input/reddit-comments-may-2015/database.sqlite\n",
      "/kaggle/input/reddit-comments-may-2015/reddit-comments-may-2015/database.sqlite\n"
     ]
    }
   ],
   "source": [
    "# This Python 3 environment comes with many helpful analytics libraries installed\n",
    "# It is defined by the kaggle/python docker image: https://github.com/kaggle/docker-python\n",
    "# For example, here's several helpful packages to load in \n",
    "\n",
    "import numpy as np # linear algebra\n",
    "import pandas as pd # data processing, CSV file I/O (e.g. pd.read_csv)\n",
    "\n",
    "# Input data files are available in the \"../input/\" directory.\n",
    "# For example, running this (by clicking run or pressing Shift+Enter) will list all files under the input directory\n",
    "\n",
    "import os\n",
    "for dirname, _, filenames in os.walk('/kaggle/input'):\n",
    "    for filename in filenames:\n",
    "        print(os.path.join(dirname, filename))\n",
    "\n",
    "# Any results you write to the current directory are saved as output."
   ]
  },
  {
   "cell_type": "code",
   "execution_count": 2,
   "metadata": {
    "_cell_guid": "79c7e3d0-c299-4dcb-8224-4455121ee9b0",
    "_uuid": "d629ff2d2480ee46fbb7e2d37f6b5fab8052498a"
   },
   "outputs": [
    {
     "name": "stdout",
     "output_type": "stream",
     "text": [
      "50000\n",
      "   created_utc  ups subreddit_id    link_id        name  score_hidden  \\\n",
      "0   1430438400    4     t5_378oi  t3_34di91  t1_cqug90g             0   \n",
      "1   1430438400    4     t5_2qo4s  t3_34g8mx  t1_cqug90h             0   \n",
      "2   1430438400    0     t5_2cneq  t3_34f7mc  t1_cqug90i             0   \n",
      "3   1430438400    3     t5_2qh1i  t3_34f9rh  t1_cqug90j             0   \n",
      "4   1430438400    3     t5_2qh1i  t3_34fvry  t1_cqug90k             0   \n",
      "\n",
      "  author_flair_css_class author_flair_text  subreddit       id  ... archived  \\\n",
      "0                   None              None  soccer_jp  cqug90g  ...        0   \n",
      "1                   Heat              Heat        nba  cqug90h  ...        0   \n",
      "2                   None              None   politics  cqug90i  ...        0   \n",
      "3                   None              None  AskReddit  cqug90j  ...        0   \n",
      "4                   None              None  AskReddit  cqug90k  ...        0   \n",
      "\n",
      "           author  score  retrieved_on  \\\n",
      "0           rx109      4    1432703079   \n",
      "1       WyaOfWade      4    1432703079   \n",
      "2    Wicked_Truth      0    1432703079   \n",
      "3        jesse9o3      3    1432703079   \n",
      "4  beltfedshooter      3    1432703079   \n",
      "\n",
      "                                                body  distinguished  edited  \\\n",
      "0                    くそ\\n読みたいが買ったら負けな気がする\\n図書館に出ねーかな           None       0   \n",
      "1  gg this one's over. off to watch the NFL draft...           None       0   \n",
      "2  Are you really implying we return to those tim...           None       0   \n",
      "3  No one has a European accent either  because i...           None       0   \n",
      "4  That the kid \"..reminds me of Kevin.\"   so sad...           None       0   \n",
      "\n",
      "  controversiality   parent_id  index  \n",
      "0                0   t3_34di91      0  \n",
      "1                0   t3_34g8mx      1  \n",
      "2                0  t1_cqufim0      2  \n",
      "3                0  t1_cqug2sr      3  \n",
      "4                0   t3_34fvry      4  \n",
      "\n",
      "[5 rows x 23 columns]\n"
     ]
    }
   ],
   "source": [
    "# read the database\n",
    "import sqlite3\n",
    "db = sqlite3.connect('/kaggle/input/reddit-comments-may-2015/reddit-comments-may-2015/database.sqlite')\n",
    "\n",
    "documents = pd.read_sql_query(\"SELECT * FROM May2015 LIMIT 50000\", db)\n",
    "documents['index'] = documents.index\n",
    "print(len(documents))\n",
    "print(documents[:5])"
   ]
  },
  {
   "cell_type": "code",
   "execution_count": 3,
   "metadata": {},
   "outputs": [
    {
     "name": "stdout",
     "output_type": "stream",
     "text": [
      "[nltk_data] Error loading wordnet: <urlopen error [Errno -3] Temporary\n",
      "[nltk_data]     failure in name resolution>\n"
     ]
    },
    {
     "data": {
      "text/plain": [
       "False"
      ]
     },
     "execution_count": 3,
     "metadata": {},
     "output_type": "execute_result"
    }
   ],
   "source": [
    "# preprocessing imports\n",
    "\n",
    "import gensim\n",
    "from gensim.utils import simple_preprocess\n",
    "from gensim.parsing.preprocessing import STOPWORDS\n",
    "from nltk.stem import WordNetLemmatizer, SnowballStemmer\n",
    "from nltk.stem.porter import *\n",
    "import numpy as np\n",
    "np.random.seed(2019)\n",
    "import nltk\n",
    "nltk.download('wordnet')"
   ]
  },
  {
   "cell_type": "code",
   "execution_count": 4,
   "metadata": {},
   "outputs": [
    {
     "name": "stdout",
     "output_type": "stream",
     "text": [
      "original document:  Cowboy and gandiva for chain? \n",
      "['Cowboy', 'and', 'gandiva', 'for', 'chain?', '']\n",
      "\n",
      "\n",
      " tokenized and lemmatized document: \n",
      "['cowboy', 'gandiva', 'chain']\n"
     ]
    }
   ],
   "source": [
    "# preprocessing functions\n",
    "\n",
    "def lemmatize(text):\n",
    "    return WordNetLemmatizer().lemmatize(text, pos='v')\n",
    "\n",
    "def preprocess(text):\n",
    "    result = []\n",
    "    for token in gensim.utils.simple_preprocess(text):\n",
    "        if token not in gensim.parsing.preprocessing.STOPWORDS and len(token) > 2:\n",
    "            result.append(lemmatize(token))\n",
    "    return result\n",
    "\n",
    "doc_sample = documents[documents['index'] == 4310]['body'].values[0]\n",
    "print('original document: ', doc_sample)\n",
    "words = []\n",
    "for word in doc_sample.split(' '):\n",
    "    words.append(word)\n",
    "print(words)\n",
    "print('\\n\\n tokenized and lemmatized document: ')\n",
    "print(preprocess(doc_sample))"
   ]
  },
  {
   "cell_type": "code",
   "execution_count": 5,
   "metadata": {},
   "outputs": [
    {
     "data": {
      "text/plain": [
       "0                                          [図書館に出ねーかな]\n",
       "1                           [watch, nfl, draft, guess]\n",
       "2    [imply, return, time, near, political, environ...\n",
       "3    [european, accent, exist, accent, europe, euro...\n",
       "4                            [kid, remind, kevin, sad]\n",
       "5    [haha, get, nauseous, ingame, experience, give...\n",
       "6    [read, wholeheartedly, believe, let, simply, a...\n",
       "7                                           [let, guy]\n",
       "8       [buy, mystery, sampler, small, batch, request]\n",
       "9    [nihilum, significantly, better, theory, think...\n",
       "Name: body, dtype: object"
      ]
     },
     "execution_count": 5,
     "metadata": {},
     "output_type": "execute_result"
    }
   ],
   "source": [
    "# preprocess all docs\n",
    "\n",
    "processed_docs = documents['body'].map(preprocess)\n",
    "processed_docs[:10]"
   ]
  },
  {
   "cell_type": "code",
   "execution_count": 6,
   "metadata": {},
   "outputs": [
    {
     "name": "stdout",
     "output_type": "stream",
     "text": [
      "0 draft\n",
      "1 guess\n",
      "2 nfl\n",
      "3 watch\n",
      "4 american\n",
      "5 concept\n",
      "6 environment\n",
      "7 imply\n",
      "8 luck\n",
      "9 near\n",
      "10 people\n"
     ]
    }
   ],
   "source": [
    "# create pre-bow structure to filter out extremes\n",
    "\n",
    "dictionary = gensim.corpora.Dictionary(processed_docs)\n",
    "dictionary.filter_extremes(no_below=15, no_above=0.5, keep_n=100000)\n",
    "\n",
    "count = 0\n",
    "for k, v in dictionary.iteritems():\n",
    "    print(k, v)\n",
    "    count += 1\n",
    "    if count > 10:\n",
    "        break"
   ]
  },
  {
   "cell_type": "code",
   "execution_count": 7,
   "metadata": {},
   "outputs": [
    {
     "data": {
      "text/plain": [
       "[(58, 1),\n",
       " (96, 1),\n",
       " (220, 1),\n",
       " (319, 1),\n",
       " (523, 1),\n",
       " (832, 2),\n",
       " (905, 1),\n",
       " (1446, 1),\n",
       " (1989, 1),\n",
       " (2338, 1),\n",
       " (2428, 1)]"
      ]
     },
     "execution_count": 7,
     "metadata": {},
     "output_type": "execute_result"
    }
   ],
   "source": [
    "# create bow\n",
    "\n",
    "bow_corpus = [dictionary.doc2bow(doc) for doc in processed_docs]\n",
    "bow_corpus[-1]"
   ]
  },
  {
   "cell_type": "code",
   "execution_count": 8,
   "metadata": {},
   "outputs": [
    {
     "name": "stdout",
     "output_type": "stream",
     "text": [
      "Word 58 (\"think\") appears 1 time(s).\n",
      "Word 96 (\"bad\") appears 1 time(s).\n",
      "Word 220 (\"kill\") appears 1 time(s).\n",
      "Word 319 (\"heavy\") appears 1 time(s).\n",
      "Word 523 (\"speed\") appears 1 time(s).\n",
      "Word 832 (\"reload\") appears 2 time(s).\n",
      "Word 905 (\"fine\") appears 1 time(s).\n",
      "Word 1446 (\"wont\") appears 1 time(s).\n",
      "Word 1989 (\"plenty\") appears 1 time(s).\n",
      "Word 2338 (\"pve\") appears 1 time(s).\n",
      "Word 2428 (\"pvp\") appears 1 time(s).\n"
     ]
    }
   ],
   "source": [
    "# preview of bow\n",
    "\n",
    "bow_doc_last = bow_corpus[-1]\n",
    "for i in range(len(bow_doc_last)):\n",
    "    print(\"Word {} (\\\"{}\\\") appears {} time(s).\".format(bow_doc_last[i][0], dictionary[bow_doc_last[i][0]], bow_doc_last[i][1]))"
   ]
  },
  {
   "cell_type": "code",
   "execution_count": 9,
   "metadata": {},
   "outputs": [
    {
     "name": "stdout",
     "output_type": "stream",
     "text": [
      "[]\n"
     ]
    }
   ],
   "source": [
    "# create tf*idf model\n",
    "\n",
    "from gensim import corpora, models\n",
    "tfidf = models.TfidfModel(bow_corpus)\n",
    "corpus_tfidf = tfidf[bow_corpus]\n",
    "from pprint import pprint\n",
    "for doc in corpus_tfidf:\n",
    "    pprint(doc)\n",
    "    break"
   ]
  },
  {
   "cell_type": "code",
   "execution_count": 10,
   "metadata": {},
   "outputs": [
    {
     "name": "stdout",
     "output_type": "stream",
     "text": [
      "Topic: 0 \n",
      "Words: 0.023*\"play\" + 0.016*\"time\" + 0.013*\"game\" + 0.012*\"like\" + 0.010*\"get\" + 0.008*\"nice\" + 0.008*\"think\" + 0.008*\"good\" + 0.008*\"win\" + 0.008*\"man\"\n",
      "Topic: 1 \n",
      "Words: 0.040*\"http\" + 0.039*\"amp\" + 0.039*\"com\" + 0.036*\"thank\" + 0.023*\"www\" + 0.019*\"reddit\" + 0.018*\"wiki\" + 0.018*\"org\" + 0.017*\"https\" + 0.012*\"wikipedia\"\n",
      "Topic: 2 \n",
      "Words: 0.036*\"post\" + 0.025*\"comment\" + 0.023*\"reddit\" + 0.022*\"question\" + 0.020*\"message\" + 0.019*\"com\" + 0.016*\"http\" + 0.016*\"www\" + 0.013*\"yes\" + 0.012*\"lol\"\n",
      "Topic: 3 \n",
      "Words: 0.017*\"like\" + 0.016*\"go\" + 0.016*\"trade\" + 0.014*\"people\" + 0.011*\"get\" + 0.010*\"white\" + 0.009*\"think\" + 0.009*\"black\" + 0.008*\"day\" + 0.008*\"shit\"\n",
      "Topic: 4 \n",
      "Words: 0.012*\"time\" + 0.012*\"know\" + 0.011*\"right\" + 0.011*\"come\" + 0.010*\"like\" + 0.009*\"help\" + 0.009*\"guy\" + 0.008*\"actually\" + 0.007*\"get\" + 0.007*\"go\"\n",
      "Topic: 5 \n",
      "Words: 0.051*\"com\" + 0.039*\"http\" + 0.033*\"watch\" + 0.022*\"www\" + 0.019*\"https\" + 0.016*\"imgur\" + 0.015*\"youtube\" + 0.009*\"jpg\" + 0.007*\"video\" + 0.007*\"nfl\"\n",
      "Topic: 6 \n",
      "Words: 0.091*\"delete\" + 0.032*\"game\" + 0.008*\"class\" + 0.008*\"buy\" + 0.008*\"high\" + 0.007*\"want\" + 0.007*\"level\" + 0.007*\"school\" + 0.006*\"go\" + 0.006*\"end\"\n",
      "Topic: 7 \n",
      "Words: 0.026*\"people\" + 0.014*\"think\" + 0.012*\"say\" + 0.011*\"know\" + 0.009*\"like\" + 0.007*\"point\" + 0.007*\"things\" + 0.006*\"mean\" + 0.006*\"want\" + 0.006*\"get\"\n",
      "Topic: 8 \n",
      "Words: 0.036*\"like\" + 0.024*\"think\" + 0.022*\"look\" + 0.021*\"good\" + 0.016*\"try\" + 0.011*\"work\" + 0.009*\"people\" + 0.009*\"love\" + 0.009*\"get\" + 0.008*\"know\"\n",
      "Topic: 9 \n",
      "Words: 0.053*\"fuck\" + 0.028*\"pick\" + 0.016*\"shit\" + 0.016*\"williams\" + 0.015*\"mariota\" + 0.013*\"draft\" + 0.013*\"want\" + 0.011*\"yeah\" + 0.010*\"team\" + 0.010*\"like\"\n"
     ]
    }
   ],
   "source": [
    "# run lda model with bow\n",
    "\n",
    "lda_model = gensim.models.LdaMulticore(bow_corpus, num_topics=10, id2word=dictionary, passes=2, workers=2)\n",
    "\n",
    "for idx, topic in lda_model.print_topics(-1):\n",
    "    print('Topic: {} \\nWords: {}'.format(idx, topic))"
   ]
  },
  {
   "cell_type": "code",
   "execution_count": 11,
   "metadata": {},
   "outputs": [
    {
     "name": "stdout",
     "output_type": "stream",
     "text": [
      "Topic: 0 Word: 0.452*\"delete\" + 0.023*\"yes\" + 0.011*\"love\" + 0.007*\"pronounce\" + 0.007*\"let\" + 0.007*\"say\" + 0.007*\"wait\" + 0.005*\"wtf\" + 0.005*\"til\" + 0.004*\"disappoint\"\n",
      "Topic: 1 Word: 0.015*\"trade\" + 0.014*\"know\" + 0.012*\"yeah\" + 0.011*\"wow\" + 0.010*\"want\" + 0.010*\"titans\" + 0.010*\"goodell\" + 0.009*\"right\" + 0.008*\"holy\" + 0.007*\"fuck\"\n",
      "Topic: 2 Word: 0.014*\"fuck\" + 0.007*\"mean\" + 0.006*\"like\" + 0.006*\"think\" + 0.005*\"people\" + 0.005*\"try\" + 0.004*\"get\" + 0.004*\"know\" + 0.004*\"want\" + 0.004*\"say\"\n",
      "Topic: 3 Word: 0.011*\"nice\" + 0.010*\"jag\" + 0.008*\"get\" + 0.007*\"fowler\" + 0.005*\"question\" + 0.005*\"like\" + 0.005*\"post\" + 0.005*\"good\" + 0.005*\"bot\" + 0.004*\"subreddit\"\n",
      "Topic: 4 Word: 0.011*\"god\" + 0.009*\"shit\" + 0.007*\"happen\" + 0.007*\"work\" + 0.007*\"damn\" + 0.006*\"awesome\" + 0.006*\"great\" + 0.006*\"like\" + 0.006*\"eagle\" + 0.006*\"guy\"\n",
      "Topic: 5 Word: 0.030*\"thank\" + 0.015*\"lol\" + 0.011*\"marcus\" + 0.011*\"marioto\" + 0.011*\"pick\" + 0.008*\"like\" + 0.007*\"cool\" + 0.006*\"people\" + 0.005*\"look\" + 0.005*\"okay\"\n",
      "Topic: 6 Word: 0.015*\"like\" + 0.011*\"think\" + 0.010*\"williams\" + 0.009*\"look\" + 0.008*\"go\" + 0.007*\"play\" + 0.006*\"feel\" + 0.005*\"game\" + 0.005*\"agree\" + 0.005*\"fun\"\n",
      "Topic: 7 Word: 0.040*\"com\" + 0.034*\"http\" + 0.022*\"www\" + 0.016*\"imgur\" + 0.016*\"https\" + 0.013*\"reddit\" + 0.012*\"watch\" + 0.010*\"youtube\" + 0.010*\"comment\" + 0.009*\"jpg\"\n",
      "Topic: 8 Word: 0.010*\"good\" + 0.006*\"think\" + 0.005*\"like\" + 0.005*\"raiders\" + 0.005*\"add\" + 0.005*\"people\" + 0.005*\"man\" + 0.005*\"best\" + 0.004*\"get\" + 0.004*\"years\"\n",
      "Topic: 9 Word: 0.010*\"time\" + 0.007*\"cooper\" + 0.007*\"winston\" + 0.007*\"mariota\" + 0.007*\"haha\" + 0.007*\"come\" + 0.006*\"sorry\" + 0.006*\"joke\" + 0.006*\"think\" + 0.006*\"post\"\n"
     ]
    }
   ],
   "source": [
    "# run lda model with tf*idf\n",
    "\n",
    "lda_model_tfidf = gensim.models.LdaMulticore(corpus_tfidf, num_topics=10, id2word=dictionary, passes=2, workers=4)\n",
    "\n",
    "for idx, topic in lda_model_tfidf.print_topics(-1):\n",
    "    print('Topic: {} Word: {}'.format(idx, topic))"
   ]
  },
  {
   "cell_type": "code",
   "execution_count": 12,
   "metadata": {},
   "outputs": [
    {
     "name": "stdout",
     "output_type": "stream",
     "text": [
      "['know', 'lot', 'people', 'shit', 'think', 'tnt', 'half', 'time', 'crew', 'pretty', 'funny', 'meh', 'insight', 'humor']\n",
      "\n",
      "Score: 0.5498533844947815\t \n",
      "Topic: 0.036*\"like\" + 0.024*\"think\" + 0.022*\"look\" + 0.021*\"good\" + 0.016*\"try\" + 0.011*\"work\" + 0.009*\"people\" + 0.009*\"love\" + 0.009*\"get\" + 0.008*\"know\"\n",
      "\n",
      "Score: 0.05001950263977051\t \n",
      "Topic: 0.040*\"http\" + 0.039*\"amp\" + 0.039*\"com\" + 0.036*\"thank\" + 0.023*\"www\" + 0.019*\"reddit\" + 0.018*\"wiki\" + 0.018*\"org\" + 0.017*\"https\" + 0.012*\"wikipedia\"\n",
      "\n",
      "Score: 0.05001908540725708\t \n",
      "Topic: 0.051*\"com\" + 0.039*\"http\" + 0.033*\"watch\" + 0.022*\"www\" + 0.019*\"https\" + 0.016*\"imgur\" + 0.015*\"youtube\" + 0.009*\"jpg\" + 0.007*\"video\" + 0.007*\"nfl\"\n",
      "\n",
      "Score: 0.0500178225338459\t \n",
      "Topic: 0.026*\"people\" + 0.014*\"think\" + 0.012*\"say\" + 0.011*\"know\" + 0.009*\"like\" + 0.007*\"point\" + 0.007*\"things\" + 0.006*\"mean\" + 0.006*\"want\" + 0.006*\"get\"\n",
      "\n",
      "Score: 0.050016436725854874\t \n",
      "Topic: 0.023*\"play\" + 0.016*\"time\" + 0.013*\"game\" + 0.012*\"like\" + 0.010*\"get\" + 0.008*\"nice\" + 0.008*\"think\" + 0.008*\"good\" + 0.008*\"win\" + 0.008*\"man\"\n",
      "\n",
      "Score: 0.05001495033502579\t \n",
      "Topic: 0.053*\"fuck\" + 0.028*\"pick\" + 0.016*\"shit\" + 0.016*\"williams\" + 0.015*\"mariota\" + 0.013*\"draft\" + 0.013*\"want\" + 0.011*\"yeah\" + 0.010*\"team\" + 0.010*\"like\"\n",
      "\n",
      "Score: 0.05001473054289818\t \n",
      "Topic: 0.017*\"like\" + 0.016*\"go\" + 0.016*\"trade\" + 0.014*\"people\" + 0.011*\"get\" + 0.010*\"white\" + 0.009*\"think\" + 0.009*\"black\" + 0.008*\"day\" + 0.008*\"shit\"\n",
      "\n",
      "Score: 0.050014715641736984\t \n",
      "Topic: 0.036*\"post\" + 0.025*\"comment\" + 0.023*\"reddit\" + 0.022*\"question\" + 0.020*\"message\" + 0.019*\"com\" + 0.016*\"http\" + 0.016*\"www\" + 0.013*\"yes\" + 0.012*\"lol\"\n",
      "\n",
      "Score: 0.050014711916446686\t \n",
      "Topic: 0.012*\"time\" + 0.012*\"know\" + 0.011*\"right\" + 0.011*\"come\" + 0.010*\"like\" + 0.009*\"help\" + 0.009*\"guy\" + 0.008*\"actually\" + 0.007*\"get\" + 0.007*\"go\"\n",
      "\n",
      "Score: 0.050014711916446686\t \n",
      "Topic: 0.091*\"delete\" + 0.032*\"game\" + 0.008*\"class\" + 0.008*\"buy\" + 0.008*\"high\" + 0.007*\"want\" + 0.007*\"level\" + 0.007*\"school\" + 0.006*\"go\" + 0.006*\"end\"\n"
     ]
    }
   ],
   "source": [
    "# performance evaluation\n",
    "\n",
    "print(processed_docs[40000])\n",
    "\n",
    "for index, score in sorted(lda_model[bow_corpus[4310]], key=lambda tup: -1*tup[1]):\n",
    "    print(\"\\nScore: {}\\t \\nTopic: {}\".format(score, lda_model.print_topic(index, 10)))"
   ]
  }
 ],
 "metadata": {
  "kernelspec": {
   "display_name": "Python 3",
   "language": "python",
   "name": "python3"
  },
  "language_info": {
   "codemirror_mode": {
    "name": "ipython",
    "version": 3
   },
   "file_extension": ".py",
   "mimetype": "text/x-python",
   "name": "python",
   "nbconvert_exporter": "python",
   "pygments_lexer": "ipython3",
   "version": "3.6.6"
  }
 },
 "nbformat": 4,
 "nbformat_minor": 4
}
